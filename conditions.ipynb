{
  "cells": [
    {
      "cell_type": "markdown",
      "metadata": {
        "id": "Wf5KrEb6vrkR"
      },
      "source": [
        "<div class=\"markdown-google-sans\">\n",
        "  <h1>Welcome to Colab!</h1>\n",
        "</div>\n",
        "\n",
        "<div class=\"markdown-google-sans\">\n",
        "  <h2>Explore the Gemini API</h2>\n",
        "  <p>The Gemini API gives you access to Gemini models created by Google DeepMind. Gemini models are built from the ground up to be multimodal, so you can reason seamlessly across text, images, code, and audio.\n",
        "  </p>\n",
        "  <strong>How to get started</strong>\n",
        "    <ol>\n",
        "      <li>Go to <a href=\"https://aistudio.google.com/\">Google AI Studio</a> and log in with your Google account.</li>\n",
        "      <li><a href=\"https://aistudio.google.com/app/apikey\">Create an API key</a>.</li>\n",
        "      <li>Use a quickstart for <a href=\"https://colab.research.google.com/github/google-gemini/cookbook/blob/main/quickstarts/Prompting.ipynb\">Python</a>, or call the REST API using <a href=\"https://colab.research.google.com/github/google-gemini/cookbook/blob/main/quickstarts/rest/Prompting_REST.ipynb\">curl</a>.</li>\n",
        "      </ol>\n",
        "  <strong>Explore use cases</strong>\n",
        "    <ul>\n",
        "      <li><a href=\"https://colab.research.google.com/github/google-gemini/cookbook/blob/main/examples/Market_a_Jet_Backpack.ipynb\">Create a marketing campaign</a></li>\n",
        "      <li><a href=\"https://colab.research.google.com/github/google-gemini/cookbook/blob/main/quickstarts/Audio.ipynb\">Analyze audio recordings</a></li>\n",
        "      <li><a href=\"https://colab.research.google.com/github/google-gemini/cookbook/blob/main/quickstarts/System_instructions.ipynb\">Use System instructions in chat</a></li>\n",
        "    </ul>\n",
        "  <p>To learn more, check out the <a href=\"https://github.com/google-gemini/cookbook\">Gemini cookbook</a> or visit the <a href=\"https://ai.google.dev/docs/\">Gemini API documentation</a>.\n",
        "  </p>\n",
        "</div>\n"
      ]
    },
    {
      "cell_type": "markdown",
      "source": [
        "if conditions in python"
      ],
      "metadata": {
        "id": "yrVk2jI7IJzF"
      }
    },
    {
      "cell_type": "code",
      "source": [
        "num = 10\n",
        "\n",
        "if num > 0:\n",
        "    print(\"The number is positive.\")"
      ],
      "metadata": {
        "id": "Dn4uoBDcIN1d",
        "outputId": "0f587943-afc7-4b12-dca6-55edf721e659",
        "colab": {
          "base_uri": "https://localhost:8080/"
        }
      },
      "execution_count": null,
      "outputs": [
        {
          "output_type": "stream",
          "name": "stdout",
          "text": [
            "The number is positive.\n"
          ]
        }
      ]
    },
    {
      "cell_type": "code",
      "source": [
        "num = -1\n",
        "\n",
        "if num > 0:\n",
        "    print(\"The number is positive.\")"
      ],
      "metadata": {
        "id": "9Ibr2BUJIbyV"
      },
      "execution_count": null,
      "outputs": []
    },
    {
      "cell_type": "code",
      "source": [
        "num = 4\n",
        "\n",
        "if num % 2 == 0:\n",
        "    print(\"The number is even.\")"
      ],
      "metadata": {
        "id": "8cyS--qhIjSK",
        "outputId": "dd9c4eca-8d49-4caa-c80b-96709ae3ad1b",
        "colab": {
          "base_uri": "https://localhost:8080/"
        }
      },
      "execution_count": null,
      "outputs": [
        {
          "output_type": "stream",
          "name": "stdout",
          "text": [
            "The number is even.\n"
          ]
        }
      ]
    },
    {
      "cell_type": "code",
      "source": [
        "num = 3\n",
        "\n",
        "if num % 3 == 0:\n",
        "    print(\"The number is Odd.\")"
      ],
      "metadata": {
        "id": "iut_kIvOIpZX",
        "outputId": "654a3a06-8107-4a02-fd37-20bfb64cc7d9",
        "colab": {
          "base_uri": "https://localhost:8080/"
        }
      },
      "execution_count": null,
      "outputs": [
        {
          "output_type": "stream",
          "name": "stdout",
          "text": [
            "The number is Odd.\n"
          ]
        }
      ]
    },
    {
      "cell_type": "code",
      "source": [
        "num = 8\n",
        "\n",
        "if num % 2 == 0:\n",
        "    print(\"number okay hai.\")"
      ],
      "metadata": {
        "id": "RRTLL2y1JDWd",
        "outputId": "9811b29a-8f11-42f2-9fe0-83d8409417d4",
        "colab": {
          "base_uri": "https://localhost:8080/"
        }
      },
      "execution_count": null,
      "outputs": [
        {
          "output_type": "stream",
          "name": "stdout",
          "text": [
            "number okay hai.\n"
          ]
        }
      ]
    },
    {
      "cell_type": "code",
      "source": [
        "ABC = 'a'\n",
        "\n",
        "if ABC in 'aeiou':\n",
        "    print(\"a hai us me.\")"
      ],
      "metadata": {
        "id": "AObDBPfnJXCm",
        "outputId": "ac7a31af-a7fb-4dae-b6a9-f55603c59ca2",
        "colab": {
          "base_uri": "https://localhost:8080/"
        }
      },
      "execution_count": null,
      "outputs": [
        {
          "output_type": "stream",
          "name": "stdout",
          "text": [
            "a hai us me.\n"
          ]
        }
      ]
    },
    {
      "cell_type": "code",
      "source": [
        "age = 25\n",
        "\n",
        "if age >= 18:\n",
        "    print(\"itny bry hogaye ho shadi kb krogy.\")"
      ],
      "metadata": {
        "id": "J0yKKSWiJ0r9",
        "outputId": "7c602055-bc3d-4269-b490-00574a067b27",
        "colab": {
          "base_uri": "https://localhost:8080/"
        }
      },
      "execution_count": null,
      "outputs": [
        {
          "output_type": "stream",
          "name": "stdout",
          "text": [
            "itny bry hogaye ho shadi kb krogy.\n"
          ]
        }
      ]
    },
    {
      "cell_type": "code",
      "source": [
        "DABBA = \"\"\n",
        "\n",
        "if not DABBA:\n",
        "    print(\"DABBA Khali hai.\")"
      ],
      "metadata": {
        "id": "aouSJpTKKH0e",
        "outputId": "3d1a40bf-6a07-4f10-dfc1-f2943236c7a1",
        "colab": {
          "base_uri": "https://localhost:8080/"
        }
      },
      "execution_count": null,
      "outputs": [
        {
          "output_type": "stream",
          "name": "stdout",
          "text": [
            "DABBA Khali hai.\n"
          ]
        }
      ]
    },
    {
      "cell_type": "code",
      "source": [
        "num = -10\n",
        "\n",
        "if num < 0:\n",
        "    print(\"The number is negative.\")"
      ],
      "metadata": {
        "id": "iDwqohHiKfrO",
        "outputId": "5dbcb13f-b69b-4544-91c4-d154dc6aa757",
        "colab": {
          "base_uri": "https://localhost:8080/"
        }
      },
      "execution_count": null,
      "outputs": [
        {
          "output_type": "stream",
          "name": "stdout",
          "text": [
            "The number is negative.\n"
          ]
        }
      ]
    },
    {
      "cell_type": "code",
      "source": [
        "num = 10\n",
        "\n",
        "if num >= 0:\n",
        "    print(\"The number is positive.\")"
      ],
      "metadata": {
        "id": "H54nHA4iLKdr",
        "outputId": "5d8d7883-b45d-484b-bf7e-f65acb12fc45",
        "colab": {
          "base_uri": "https://localhost:8080/"
        }
      },
      "execution_count": null,
      "outputs": [
        {
          "output_type": "stream",
          "name": "stdout",
          "text": [
            "The number is positive.\n"
          ]
        }
      ]
    },
    {
      "cell_type": "markdown",
      "source": [
        "\n",
        "else conditions  "
      ],
      "metadata": {
        "id": "pEMDh5ezLXe6"
      }
    },
    {
      "cell_type": "code",
      "source": [
        "num = 7\n",
        "if num % 2 == 0:\n",
        "    print(\"The number is even.\")\n",
        "else:\n",
        "    print(\"The number is odd.\")"
      ],
      "metadata": {
        "id": "GB1FofXXLseC",
        "outputId": "47ceb27a-cac5-4dca-81cd-2468b76d5ea6",
        "colab": {
          "base_uri": "https://localhost:8080/"
        }
      },
      "execution_count": null,
      "outputs": [
        {
          "output_type": "stream",
          "name": "stdout",
          "text": [
            "The number is odd.\n"
          ]
        }
      ]
    },
    {
      "cell_type": "code",
      "source": [
        "num = 4\n",
        "if num % 2 == 0:\n",
        "    print(\"The number is even.\")\n",
        "else:\n",
        "    print(\"The number is odd.\")"
      ],
      "metadata": {
        "id": "kjyWqDI4L-ID",
        "outputId": "f0107e85-00a3-4986-f0f7-d284a3303851",
        "colab": {
          "base_uri": "https://localhost:8080/"
        }
      },
      "execution_count": null,
      "outputs": [
        {
          "output_type": "stream",
          "name": "stdout",
          "text": [
            "The number is even.\n"
          ]
        }
      ]
    },
    {
      "cell_type": "code",
      "source": [
        "age = 17\n",
        "if age >= 18:\n",
        "    print(\"tum bry hogye ho.\")\n",
        "else:\n",
        "    print(\"chota a ty chota e reh.\")"
      ],
      "metadata": {
        "id": "XNi0Sq96MEXi",
        "outputId": "8c738596-b67e-4fdd-bdce-8a515d4467c7",
        "colab": {
          "base_uri": "https://localhost:8080/"
        }
      },
      "execution_count": null,
      "outputs": [
        {
          "output_type": "stream",
          "name": "stdout",
          "text": [
            "chota a ty chota e reh.\n"
          ]
        }
      ]
    },
    {
      "cell_type": "code",
      "source": [
        "age = 20\n",
        "if age >= 18:\n",
        "    print(\"tum bry hogye ho.\")\n",
        "else:\n",
        "    print(\"chota a ty chota e reh.\")"
      ],
      "metadata": {
        "id": "J9utgXAXMaYw",
        "outputId": "2bbf753b-94dd-4f86-d766-4910d224799c",
        "colab": {
          "base_uri": "https://localhost:8080/"
        }
      },
      "execution_count": null,
      "outputs": [
        {
          "output_type": "stream",
          "name": "stdout",
          "text": [
            "tum bry hogye ho.\n"
          ]
        }
      ]
    },
    {
      "cell_type": "code",
      "source": [
        "num = 7\n",
        "if num % 3 == 0:\n",
        "    print(\"The number is divisible by 3.\")\n",
        "else:\n",
        "    print(\"The number is not divisible by 3.\")"
      ],
      "metadata": {
        "id": "LVMNFADBOH5P",
        "colab": {
          "base_uri": "https://localhost:8080/"
        },
        "outputId": "d58a081f-bf11-4697-9b8b-04dd0de5c43b"
      },
      "execution_count": 4,
      "outputs": [
        {
          "output_type": "stream",
          "name": "stdout",
          "text": [
            "The number is not divisible by 3.\n"
          ]
        }
      ]
    },
    {
      "cell_type": "code",
      "source": [
        "num = 9\n",
        "if num % 3 == 0:\n",
        "    print(\"The number is divisible by 3.\")\n",
        "else:\n",
        "    print(\"The number is not divisible by 3.\")"
      ],
      "metadata": {
        "id": "Xxx4LsiEOlf6",
        "colab": {
          "base_uri": "https://localhost:8080/"
        },
        "outputId": "63d93213-1094-4dfb-ce95-15a450116c85"
      },
      "execution_count": 5,
      "outputs": [
        {
          "output_type": "stream",
          "name": "stdout",
          "text": [
            "The number is divisible by 3.\n"
          ]
        }
      ]
    },
    {
      "cell_type": "code",
      "source": [
        "string = \"Hello\"\n",
        "if not string:\n",
        "    print(\"The string is empty.\")\n",
        "else:\n",
        "    print(\"The string is not empty.\")"
      ],
      "metadata": {
        "colab": {
          "base_uri": "https://localhost:8080/"
        },
        "id": "lqcwBur7QTTu",
        "outputId": "9721f6e4-c39f-4874-fe3d-d76eef25113c"
      },
      "execution_count": 6,
      "outputs": [
        {
          "output_type": "stream",
          "name": "stdout",
          "text": [
            "The string is not empty.\n"
          ]
        }
      ]
    },
    {
      "cell_type": "code",
      "source": [
        "string = \"\"\n",
        "if not string:\n",
        "    print(\"The string is empty.\")\n",
        "else:\n",
        "    print(\"The string is not empty.\")"
      ],
      "metadata": {
        "colab": {
          "base_uri": "https://localhost:8080/"
        },
        "id": "61rdmiYMQsc4",
        "outputId": "cb839a66-9cdb-4be5-daf6-be8c99627165"
      },
      "execution_count": 7,
      "outputs": [
        {
          "output_type": "stream",
          "name": "stdout",
          "text": [
            "The string is empty.\n"
          ]
        }
      ]
    },
    {
      "cell_type": "code",
      "source": [
        "char = 'b'\n",
        "if char in 'aeiouAEIOU':\n",
        "    print(\"The character is a vowel.\")\n",
        "else:\n",
        "    print(\"The character is a consonant.\")"
      ],
      "metadata": {
        "colab": {
          "base_uri": "https://localhost:8080/"
        },
        "id": "vrxpRZcjbFtN",
        "outputId": "c1407ec4-921b-4113-c5b1-1267d4dda8ba"
      },
      "execution_count": 8,
      "outputs": [
        {
          "output_type": "stream",
          "name": "stdout",
          "text": [
            "The character is a consonant.\n"
          ]
        }
      ]
    },
    {
      "cell_type": "code",
      "source": [
        "char = 'ae'\n",
        "if char in 'aeiouAEIOU':\n",
        "    print(\"The character is a vowel.\")\n",
        "else:\n",
        "    print(\"The character is a consonant.\")"
      ],
      "metadata": {
        "colab": {
          "base_uri": "https://localhost:8080/"
        },
        "id": "A23qVm-ubGOT",
        "outputId": "dcf6e7c0-e5aa-45b1-c1c2-f8693ecd9f68"
      },
      "execution_count": 9,
      "outputs": [
        {
          "output_type": "stream",
          "name": "stdout",
          "text": [
            "The character is a vowel.\n"
          ]
        }
      ]
    },
    {
      "cell_type": "markdown",
      "source": [
        "elif conditions"
      ],
      "metadata": {
        "id": "suNwe-MfbZE_"
      }
    },
    {
      "cell_type": "code",
      "source": [
        "age = 25\n",
        "\n",
        "if age < 18:\n",
        "    print(\"You are a minor.\")\n",
        "elif age <= 65:\n",
        "    print(\"You are an adult.\")\n",
        "else:\n",
        "    print(\"You are a senior citizen.\")"
      ],
      "metadata": {
        "colab": {
          "base_uri": "https://localhost:8080/"
        },
        "id": "OXjO8uicbc2k",
        "outputId": "61178ef5-a57b-47a9-b79b-367d1122b9c6"
      },
      "execution_count": 10,
      "outputs": [
        {
          "output_type": "stream",
          "name": "stdout",
          "text": [
            "You are an adult.\n"
          ]
        }
      ]
    },
    {
      "cell_type": "code",
      "source": [
        "age = 80\n",
        "\n",
        "if age < 18:\n",
        "    print(\"You are a minor.\")\n",
        "elif age <= 65:\n",
        "    print(\"You are an adult.\")\n",
        "else:\n",
        "    print(\"You are a senior citizen.\")"
      ],
      "metadata": {
        "colab": {
          "base_uri": "https://localhost:8080/"
        },
        "id": "FAuBFD4ubyLM",
        "outputId": "b482faa8-4b59-4a4e-d9b7-f925b7409b41"
      },
      "execution_count": 11,
      "outputs": [
        {
          "output_type": "stream",
          "name": "stdout",
          "text": [
            "You are a senior citizen.\n"
          ]
        }
      ]
    },
    {
      "cell_type": "code",
      "source": [
        "age = 1\n",
        "\n",
        "if age < 18:\n",
        "    print(\"abhi tum bachay ho.\")\n",
        "elif age <= 65:\n",
        "    print(\"jawan hogye ho.\")\n",
        "else:\n",
        "    print(\"chl budday.\")"
      ],
      "metadata": {
        "colab": {
          "base_uri": "https://localhost:8080/"
        },
        "id": "nVQpoEBAb1zd",
        "outputId": "d7bbdae1-bde4-4e44-b7f4-f5df7e0a9b0b"
      },
      "execution_count": 12,
      "outputs": [
        {
          "output_type": "stream",
          "name": "stdout",
          "text": [
            "abhi tum bachay ho.\n"
          ]
        }
      ]
    },
    {
      "cell_type": "code",
      "source": [
        "day_num = 3\n",
        "\n",
        "if day_num == 1:\n",
        "    day = \"Monday\"\n",
        "elif day_num == 2:\n",
        "    day = \"Tuesday\"\n",
        "elif day_num == 3:\n",
        "    day = \"Wednesday\"\n",
        "\n",
        "\n",
        "print(\"Today is:\", day)"
      ],
      "metadata": {
        "colab": {
          "base_uri": "https://localhost:8080/"
        },
        "id": "D65flAX5cKAi",
        "outputId": "6f226e59-7ce4-407d-a5e6-6c63874d77bf"
      },
      "execution_count": 13,
      "outputs": [
        {
          "output_type": "stream",
          "name": "stdout",
          "text": [
            "Today is: Wednesday\n"
          ]
        }
      ]
    },
    {
      "cell_type": "code",
      "source": [
        "day_num = 1\n",
        "\n",
        "if day_num == 1:\n",
        "    day = \"Monday\"\n",
        "elif day_num == 2:\n",
        "    day = \"Tuesday\"\n",
        "elif day_num == 3:\n",
        "    day = \"Wednesday\"\n",
        "\n",
        "print(\"Today is:\", day)"
      ],
      "metadata": {
        "colab": {
          "base_uri": "https://localhost:8080/"
        },
        "id": "3XdQ7ZcycKMK",
        "outputId": "4cc276da-d134-410f-8ce9-aec76676869a"
      },
      "execution_count": 14,
      "outputs": [
        {
          "output_type": "stream",
          "name": "stdout",
          "text": [
            "Today is: Monday\n"
          ]
        }
      ]
    },
    {
      "cell_type": "code",
      "source": [
        "day_num = 2\n",
        "\n",
        "if day_num == 1:\n",
        "    day = \"Monday\"\n",
        "elif day_num == 2:\n",
        "    day = \"Tuesday\"\n",
        "elif day_num == 3:\n",
        "    day = \"Wednesday\"\n",
        "\n",
        "print(\"Today is:\", day)"
      ],
      "metadata": {
        "colab": {
          "base_uri": "https://localhost:8080/"
        },
        "id": "7UCalDGocKaO",
        "outputId": "fa60f566-0a44-43b5-9f8f-500835ee9b54"
      },
      "execution_count": 15,
      "outputs": [
        {
          "output_type": "stream",
          "name": "stdout",
          "text": [
            "Today is: Tuesday\n"
          ]
        }
      ]
    },
    {
      "cell_type": "code",
      "source": [
        "num = -5\n",
        "if num > 0:\n",
        "    print(\"The number is positive.\")\n",
        "elif num < 0:\n",
        "    print(\"The number is negative.\")\n",
        "else:\n",
        "    print(\"The number is zero.\")"
      ],
      "metadata": {
        "colab": {
          "base_uri": "https://localhost:8080/"
        },
        "id": "VhasRr-OcMRv",
        "outputId": "a2802d02-5829-451e-ac9e-2d9e029c8946"
      },
      "execution_count": 17,
      "outputs": [
        {
          "output_type": "stream",
          "name": "stdout",
          "text": [
            "The number is negative.\n"
          ]
        }
      ]
    },
    {
      "cell_type": "code",
      "source": [
        "num = 10\n",
        "if num > 0:\n",
        "    print(\"The number is positive.\")\n",
        "elif num < 0:\n",
        "    print(\"The number is negative.\")\n",
        "else:\n",
        "    print(\"The number is zero.\")"
      ],
      "metadata": {
        "colab": {
          "base_uri": "https://localhost:8080/"
        },
        "id": "JfWtSX-ucMeX",
        "outputId": "205a9dce-dca5-48bf-e1c0-3079e2d052f8"
      },
      "execution_count": 18,
      "outputs": [
        {
          "output_type": "stream",
          "name": "stdout",
          "text": [
            "The number is positive.\n"
          ]
        }
      ]
    },
    {
      "cell_type": "code",
      "source": [
        "grade = 'B'\n",
        "\n",
        "if grade == 'A':\n",
        "    print(\"Excellent!\")\n",
        "elif grade == 'B':\n",
        "    print(\"Good job!\")\n",
        "elif grade == 'C':\n",
        "    print(\"Satisfactory.\")\n",
        "elif grade == 'D':\n",
        "    print(\"Needs improvement.\")\n",
        "else:\n",
        "    print(\"Failing grade.\")"
      ],
      "metadata": {
        "colab": {
          "base_uri": "https://localhost:8080/"
        },
        "id": "G1FUbj0XcMpK",
        "outputId": "e34fe0c4-6814-4511-def2-502761d86e12"
      },
      "execution_count": 19,
      "outputs": [
        {
          "output_type": "stream",
          "name": "stdout",
          "text": [
            "Good job!\n"
          ]
        }
      ]
    },
    {
      "cell_type": "code",
      "source": [
        "grade = 'e'\n",
        "\n",
        "if grade == 'A':\n",
        "    print(\"Excellent!\")\n",
        "elif grade == 'B':\n",
        "    print(\"Good job!\")\n",
        "elif grade == 'C':\n",
        "    print(\"Satisfactory.\")\n",
        "elif grade == 'D':\n",
        "    print(\"Needs improvement.\")\n",
        "else:\n",
        "    print(\"Failing grade.\")"
      ],
      "metadata": {
        "colab": {
          "base_uri": "https://localhost:8080/"
        },
        "id": "qxvkzAbAeBdE",
        "outputId": "31cf1a1d-bd01-49e3-8418-0ff7f854964c"
      },
      "execution_count": 20,
      "outputs": [
        {
          "output_type": "stream",
          "name": "stdout",
          "text": [
            "Failing grade.\n"
          ]
        }
      ]
    },
    {
      "cell_type": "code",
      "source": [],
      "metadata": {
        "id": "-z0PVsg4eEbN"
      },
      "execution_count": null,
      "outputs": []
    }
  ],
  "metadata": {
    "colab": {
      "toc_visible": true,
      "provenance": []
    },
    "kernelspec": {
      "display_name": "Python 3",
      "name": "python3"
    }
  },
  "nbformat": 4,
  "nbformat_minor": 0
}